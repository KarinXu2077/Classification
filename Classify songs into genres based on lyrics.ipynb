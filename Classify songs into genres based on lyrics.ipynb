{
 "cells": [
  {
   "cell_type": "markdown",
   "id": "8a38ae34",
   "metadata": {},
   "source": [
    "Step1: Load the data"
   ]
  },
  {
   "cell_type": "code",
   "execution_count": 1,
   "id": "be684f57",
   "metadata": {},
   "outputs": [],
   "source": [
    "# import some packages\n",
    "\n",
    "import numpy as np\n",
    "import pandas as pd\n",
    "\n",
    "import matplotlib.pyplot as plt\n",
    "import seaborn as sns\n",
    "\n",
    "import helper_functions\n",
    "\n",
    "# change some settings\n",
    "\n",
    "pd.set_option('display.max_rows', 10)\n",
    "pd.set_option('display.max_columns', 8)\n",
    "plt.rcParams['figure.figsize'] = (10,8)\n",
    "\n",
    "# indicate paths to files\n",
    "\n",
    "import os \n",
    "\n",
    "path_to_data = r\"C:\\Users\\xy200\\OneDrive\\Desktop\\24sping\\program\\lyrics.csv\"\n",
    "path_to_dictionary = r\"C:\\Users\\xy200\\OneDrive\\Desktop\\24sping\\program\\words.csv\""
   ]
  },
  {
   "cell_type": "code",
   "execution_count": 2,
   "id": "3c9840af",
   "metadata": {},
   "outputs": [
    {
     "data": {
      "text/html": [
       "<div>\n",
       "<style scoped>\n",
       "    .dataframe tbody tr th:only-of-type {\n",
       "        vertical-align: middle;\n",
       "    }\n",
       "\n",
       "    .dataframe tbody tr th {\n",
       "        vertical-align: top;\n",
       "    }\n",
       "\n",
       "    .dataframe thead th {\n",
       "        text-align: right;\n",
       "    }\n",
       "</style>\n",
       "<table border=\"1\" class=\"dataframe\">\n",
       "  <thead>\n",
       "    <tr style=\"text-align: right;\">\n",
       "      <th></th>\n",
       "      <th>Title</th>\n",
       "      <th>Artist</th>\n",
       "      <th>Genre</th>\n",
       "      <th>i</th>\n",
       "      <th>...</th>\n",
       "      <th>santo</th>\n",
       "      <th>pe</th>\n",
       "      <th>gee</th>\n",
       "      <th>colleg</th>\n",
       "    </tr>\n",
       "  </thead>\n",
       "  <tbody>\n",
       "    <tr>\n",
       "      <th>0</th>\n",
       "      <td>Buried Alive</td>\n",
       "      <td>Hell Razah</td>\n",
       "      <td>Hip-hop</td>\n",
       "      <td>0.028395</td>\n",
       "      <td>...</td>\n",
       "      <td>0.0</td>\n",
       "      <td>0.0</td>\n",
       "      <td>0.0</td>\n",
       "      <td>0.0</td>\n",
       "    </tr>\n",
       "    <tr>\n",
       "      <th>1</th>\n",
       "      <td>Little Things</td>\n",
       "      <td>Danni Leigh</td>\n",
       "      <td>Country</td>\n",
       "      <td>0.024862</td>\n",
       "      <td>...</td>\n",
       "      <td>0.0</td>\n",
       "      <td>0.0</td>\n",
       "      <td>0.0</td>\n",
       "      <td>0.0</td>\n",
       "    </tr>\n",
       "    <tr>\n",
       "      <th>2</th>\n",
       "      <td>Open</td>\n",
       "      <td>Afu-Ra</td>\n",
       "      <td>Hip-hop</td>\n",
       "      <td>0.052198</td>\n",
       "      <td>...</td>\n",
       "      <td>0.0</td>\n",
       "      <td>0.0</td>\n",
       "      <td>0.0</td>\n",
       "      <td>0.0</td>\n",
       "    </tr>\n",
       "    <tr>\n",
       "      <th>3</th>\n",
       "      <td>Everything Is Shady</td>\n",
       "      <td>Cashis</td>\n",
       "      <td>Hip-hop</td>\n",
       "      <td>0.025597</td>\n",
       "      <td>...</td>\n",
       "      <td>0.0</td>\n",
       "      <td>0.0</td>\n",
       "      <td>0.0</td>\n",
       "      <td>0.0</td>\n",
       "    </tr>\n",
       "    <tr>\n",
       "      <th>4</th>\n",
       "      <td>Car Tu Portes Mon Nom (Live 2006)</td>\n",
       "      <td>Diam's</td>\n",
       "      <td>Hip-hop</td>\n",
       "      <td>0.000000</td>\n",
       "      <td>...</td>\n",
       "      <td>0.0</td>\n",
       "      <td>0.0</td>\n",
       "      <td>0.0</td>\n",
       "      <td>0.0</td>\n",
       "    </tr>\n",
       "    <tr>\n",
       "      <th>...</th>\n",
       "      <td>...</td>\n",
       "      <td>...</td>\n",
       "      <td>...</td>\n",
       "      <td>...</td>\n",
       "      <td>...</td>\n",
       "      <td>...</td>\n",
       "      <td>...</td>\n",
       "      <td>...</td>\n",
       "      <td>...</td>\n",
       "    </tr>\n",
       "    <tr>\n",
       "      <th>1664</th>\n",
       "      <td>Liebes Lied</td>\n",
       "      <td>Absolute Beginner</td>\n",
       "      <td>Hip-hop</td>\n",
       "      <td>0.000000</td>\n",
       "      <td>...</td>\n",
       "      <td>0.0</td>\n",
       "      <td>0.0</td>\n",
       "      <td>0.0</td>\n",
       "      <td>0.0</td>\n",
       "    </tr>\n",
       "    <tr>\n",
       "      <th>1665</th>\n",
       "      <td>As Lovely As You</td>\n",
       "      <td>Alison Krauss &amp; Union Station</td>\n",
       "      <td>Country</td>\n",
       "      <td>0.065868</td>\n",
       "      <td>...</td>\n",
       "      <td>0.0</td>\n",
       "      <td>0.0</td>\n",
       "      <td>0.0</td>\n",
       "      <td>0.0</td>\n",
       "    </tr>\n",
       "    <tr>\n",
       "      <th>1666</th>\n",
       "      <td>Sucka Free</td>\n",
       "      <td>Afu-Ra</td>\n",
       "      <td>Hip-hop</td>\n",
       "      <td>0.080386</td>\n",
       "      <td>...</td>\n",
       "      <td>0.0</td>\n",
       "      <td>0.0</td>\n",
       "      <td>0.0</td>\n",
       "      <td>0.0</td>\n",
       "    </tr>\n",
       "    <tr>\n",
       "      <th>1667</th>\n",
       "      <td>The Hard Way</td>\n",
       "      <td>Kasey Chambers</td>\n",
       "      <td>Country</td>\n",
       "      <td>0.057143</td>\n",
       "      <td>...</td>\n",
       "      <td>0.0</td>\n",
       "      <td>0.0</td>\n",
       "      <td>0.0</td>\n",
       "      <td>0.0</td>\n",
       "    </tr>\n",
       "    <tr>\n",
       "      <th>1668</th>\n",
       "      <td>Goodbye To The Ground</td>\n",
       "      <td>Allison Moorer</td>\n",
       "      <td>Country</td>\n",
       "      <td>0.039604</td>\n",
       "      <td>...</td>\n",
       "      <td>0.0</td>\n",
       "      <td>0.0</td>\n",
       "      <td>0.0</td>\n",
       "      <td>0.0</td>\n",
       "    </tr>\n",
       "  </tbody>\n",
       "</table>\n",
       "<p>1669 rows × 4820 columns</p>\n",
       "</div>"
      ],
      "text/plain": [
       "                                  Title                         Artist  \\\n",
       "0                          Buried Alive                     Hell Razah   \n",
       "1                         Little Things                    Danni Leigh   \n",
       "2                                  Open                         Afu-Ra   \n",
       "3                   Everything Is Shady                         Cashis   \n",
       "4     Car Tu Portes Mon Nom (Live 2006)                         Diam's   \n",
       "...                                 ...                            ...   \n",
       "1664                        Liebes Lied              Absolute Beginner   \n",
       "1665                   As Lovely As You  Alison Krauss & Union Station   \n",
       "1666                         Sucka Free                         Afu-Ra   \n",
       "1667                       The Hard Way                 Kasey Chambers   \n",
       "1668              Goodbye To The Ground                 Allison Moorer   \n",
       "\n",
       "        Genre         i  ...  santo   pe  gee  colleg  \n",
       "0     Hip-hop  0.028395  ...    0.0  0.0  0.0     0.0  \n",
       "1     Country  0.024862  ...    0.0  0.0  0.0     0.0  \n",
       "2     Hip-hop  0.052198  ...    0.0  0.0  0.0     0.0  \n",
       "3     Hip-hop  0.025597  ...    0.0  0.0  0.0     0.0  \n",
       "4     Hip-hop  0.000000  ...    0.0  0.0  0.0     0.0  \n",
       "...       ...       ...  ...    ...  ...  ...     ...  \n",
       "1664  Hip-hop  0.000000  ...    0.0  0.0  0.0     0.0  \n",
       "1665  Country  0.065868  ...    0.0  0.0  0.0     0.0  \n",
       "1666  Hip-hop  0.080386  ...    0.0  0.0  0.0     0.0  \n",
       "1667  Country  0.057143  ...    0.0  0.0  0.0     0.0  \n",
       "1668  Country  0.039604  ...    0.0  0.0  0.0     0.0  \n",
       "\n",
       "[1669 rows x 4820 columns]"
      ]
     },
     "execution_count": 2,
     "metadata": {},
     "output_type": "execute_result"
    }
   ],
   "source": [
    "lyrics = pd.read_csv(path_to_data)\n",
    "lyrics"
   ]
  },
  {
   "cell_type": "code",
   "execution_count": 3,
   "id": "86286a52",
   "metadata": {},
   "outputs": [
    {
     "data": {
      "text/plain": [
       "Index(['Title', 'Artist', 'Genre', 'i', 'the', 'you', 'to', 'and', 'a', 'me',\n",
       "       ...\n",
       "       'seventh', 'capit', 'writer', 'motivo', 'bake', 'insist', 'santo', 'pe',\n",
       "       'gee', 'colleg'],\n",
       "      dtype='object', length=4820)"
      ]
     },
     "execution_count": 3,
     "metadata": {},
     "output_type": "execute_result"
    }
   ],
   "source": [
    "lyrics.columns"
   ]
  },
  {
   "cell_type": "code",
   "execution_count": 4,
   "id": "17d45094",
   "metadata": {},
   "outputs": [
    {
     "data": {
      "text/html": [
       "<div>\n",
       "<style scoped>\n",
       "    .dataframe tbody tr th:only-of-type {\n",
       "        vertical-align: middle;\n",
       "    }\n",
       "\n",
       "    .dataframe tbody tr th {\n",
       "        vertical-align: top;\n",
       "    }\n",
       "\n",
       "    .dataframe thead th {\n",
       "        text-align: right;\n",
       "    }\n",
       "</style>\n",
       "<table border=\"1\" class=\"dataframe\">\n",
       "  <thead>\n",
       "    <tr style=\"text-align: right;\">\n",
       "      <th></th>\n",
       "      <th>Title</th>\n",
       "      <th>Artist</th>\n",
       "      <th>Genre</th>\n",
       "      <th>like</th>\n",
       "      <th>love</th>\n",
       "      <th>the</th>\n",
       "    </tr>\n",
       "  </thead>\n",
       "  <tbody>\n",
       "    <tr>\n",
       "      <th>962</th>\n",
       "      <td>In Your Eyes</td>\n",
       "      <td>Alison Krauss</td>\n",
       "      <td>Country</td>\n",
       "      <td>0.011905</td>\n",
       "      <td>0.059524</td>\n",
       "      <td>0.0</td>\n",
       "    </tr>\n",
       "  </tbody>\n",
       "</table>\n",
       "</div>"
      ],
      "text/plain": [
       "            Title         Artist    Genre      like      love  the\n",
       "962  In Your Eyes  Alison Krauss  Country  0.011905  0.059524  0.0"
      ]
     },
     "execution_count": 4,
     "metadata": {},
     "output_type": "execute_result"
    }
   ],
   "source": [
    "lyrics.loc[lyrics[\"Title\"] == \"In Your Eyes\",['Title', 'Artist', 'Genre','like','love','the']]"
   ]
  },
  {
   "cell_type": "code",
   "execution_count": 5,
   "id": "c4827d5f",
   "metadata": {},
   "outputs": [
    {
     "data": {
      "text/plain": [
       "0       1.0\n",
       "1       1.0\n",
       "2       1.0\n",
       "3       1.0\n",
       "4       1.0\n",
       "       ... \n",
       "1664    1.0\n",
       "1665    1.0\n",
       "1666    1.0\n",
       "1667    1.0\n",
       "1668    1.0\n",
       "Length: 1669, dtype: float64"
      ]
     },
     "execution_count": 5,
     "metadata": {},
     "output_type": "execute_result"
    }
   ],
   "source": [
    "lyrics.drop(columns = [\"Title\", \"Artist\", \"Genre\"]).sum(axis = 1)"
   ]
  },
  {
   "cell_type": "code",
   "execution_count": 6,
   "id": "d00da205",
   "metadata": {},
   "outputs": [
    {
     "data": {
      "text/html": [
       "<div>\n",
       "<style scoped>\n",
       "    .dataframe tbody tr th:only-of-type {\n",
       "        vertical-align: middle;\n",
       "    }\n",
       "\n",
       "    .dataframe tbody tr th {\n",
       "        vertical-align: top;\n",
       "    }\n",
       "\n",
       "    .dataframe thead th {\n",
       "        text-align: right;\n",
       "    }\n",
       "</style>\n",
       "<table border=\"1\" class=\"dataframe\">\n",
       "  <thead>\n",
       "    <tr style=\"text-align: right;\">\n",
       "      <th></th>\n",
       "      <th>Stem</th>\n",
       "      <th>Word</th>\n",
       "    </tr>\n",
       "  </thead>\n",
       "  <tbody>\n",
       "    <tr>\n",
       "      <th>0</th>\n",
       "      <td>día</td>\n",
       "      <td>día</td>\n",
       "    </tr>\n",
       "    <tr>\n",
       "      <th>1</th>\n",
       "      <td>pido</td>\n",
       "      <td>pido</td>\n",
       "    </tr>\n",
       "    <tr>\n",
       "      <th>2</th>\n",
       "      <td>hatr</td>\n",
       "      <td>hatred</td>\n",
       "    </tr>\n",
       "    <tr>\n",
       "      <th>3</th>\n",
       "      <td>pide</td>\n",
       "      <td>pide</td>\n",
       "    </tr>\n",
       "    <tr>\n",
       "      <th>4</th>\n",
       "      <td>yellow</td>\n",
       "      <td>yellow</td>\n",
       "    </tr>\n",
       "    <tr>\n",
       "      <th>...</th>\n",
       "      <td>...</td>\n",
       "      <td>...</td>\n",
       "    </tr>\n",
       "    <tr>\n",
       "      <th>4971</th>\n",
       "      <td>yell</td>\n",
       "      <td>yell</td>\n",
       "    </tr>\n",
       "    <tr>\n",
       "      <th>4972</th>\n",
       "      <td>at</td>\n",
       "      <td>at</td>\n",
       "    </tr>\n",
       "    <tr>\n",
       "      <th>4973</th>\n",
       "      <td>confess</td>\n",
       "      <td>confess</td>\n",
       "    </tr>\n",
       "    <tr>\n",
       "      <th>4974</th>\n",
       "      <td>sincer</td>\n",
       "      <td>sincere</td>\n",
       "    </tr>\n",
       "    <tr>\n",
       "      <th>4975</th>\n",
       "      <td>richard</td>\n",
       "      <td>richard</td>\n",
       "    </tr>\n",
       "  </tbody>\n",
       "</table>\n",
       "<p>4976 rows × 2 columns</p>\n",
       "</div>"
      ],
      "text/plain": [
       "         Stem     Word\n",
       "0         día      día\n",
       "1        pido     pido\n",
       "2        hatr   hatred\n",
       "3        pide     pide\n",
       "4      yellow   yellow\n",
       "...       ...      ...\n",
       "4971     yell     yell\n",
       "4972       at       at\n",
       "4973  confess  confess\n",
       "4974   sincer  sincere\n",
       "4975  richard  richard\n",
       "\n",
       "[4976 rows x 2 columns]"
      ]
     },
     "execution_count": 6,
     "metadata": {},
     "output_type": "execute_result"
    }
   ],
   "source": [
    "# The stemming process alters suffixes from related words. \n",
    "# For example, \"manag\" is the stemmed form of \"manage\", \"manager\", etc. Here is a table of words indicating the transformation.\n",
    "stemming = pd.read_csv(path_to_dictionary)\n",
    "stemming"
   ]
  },
  {
   "cell_type": "markdown",
   "id": "1abcedb3",
   "metadata": {},
   "source": [
    "Step2: Test data transform"
   ]
  },
  {
   "cell_type": "code",
   "execution_count": 7,
   "id": "81fc1856",
   "metadata": {},
   "outputs": [
    {
     "data": {
      "text/plain": [
       "0.7216639871382636"
      ]
     },
     "execution_count": 7,
     "metadata": {},
     "output_type": "execute_result"
    }
   ],
   "source": [
    "# Compute the fraction of words in stemming that are unchanged under the stemming process\n",
    "unchanged_words = (stemming['Word'] == stemming['Stem']).sum()\n",
    "total_words = len(stemming)\n",
    "q1_1 = unchanged_words/total_words\n",
    "q1_1"
   ]
  },
  {
   "cell_type": "code",
   "execution_count": 8,
   "id": "4c0ed2e1",
   "metadata": {},
   "outputs": [
    {
     "data": {
      "text/plain": [
       "'messag'"
      ]
     },
     "execution_count": 8,
     "metadata": {},
     "output_type": "execute_result"
    }
   ],
   "source": [
    "# Test the stemmed form of \"message\"\n",
    "mask = stemming['Word'] == 'message'\n",
    "q1_2 = stemming.loc[mask, 'Stem'].values[0]\n",
    "q1_2"
   ]
  },
  {
   "cell_type": "code",
   "execution_count": 9,
   "id": "efa00a8a",
   "metadata": {},
   "outputs": [
    {
     "data": {
      "text/plain": [
       "['singl']"
      ]
     },
     "execution_count": 9,
     "metadata": {},
     "output_type": "execute_result"
    }
   ],
   "source": [
    "# Reverse test, original word of stemmed form-the string \"single\"\n",
    "original_words = stemming.loc[stemming['Stem'] == 'singl', 'Word'].tolist()\n",
    "\n",
    "q1_3 = [\"singl\"] if \"singl\" not in original_words else original_words\n",
    "\n",
    "q1_3"
   ]
  },
  {
   "cell_type": "code",
   "execution_count": 10,
   "id": "ca9a8eb7",
   "metadata": {},
   "outputs": [
    {
     "data": {
      "text/html": [
       "<div>\n",
       "<style scoped>\n",
       "    .dataframe tbody tr th:only-of-type {\n",
       "        vertical-align: middle;\n",
       "    }\n",
       "\n",
       "    .dataframe tbody tr th {\n",
       "        vertical-align: top;\n",
       "    }\n",
       "\n",
       "    .dataframe thead th {\n",
       "        text-align: right;\n",
       "    }\n",
       "</style>\n",
       "<table border=\"1\" class=\"dataframe\">\n",
       "  <thead>\n",
       "    <tr style=\"text-align: right;\">\n",
       "      <th></th>\n",
       "      <th>Stem</th>\n",
       "      <th>Word</th>\n",
       "      <th>length difference</th>\n",
       "    </tr>\n",
       "  </thead>\n",
       "  <tbody>\n",
       "    <tr>\n",
       "      <th>0</th>\n",
       "      <td>día</td>\n",
       "      <td>día</td>\n",
       "      <td>0</td>\n",
       "    </tr>\n",
       "    <tr>\n",
       "      <th>1</th>\n",
       "      <td>pido</td>\n",
       "      <td>pido</td>\n",
       "      <td>0</td>\n",
       "    </tr>\n",
       "    <tr>\n",
       "      <th>2</th>\n",
       "      <td>hatr</td>\n",
       "      <td>hatred</td>\n",
       "      <td>2</td>\n",
       "    </tr>\n",
       "    <tr>\n",
       "      <th>3</th>\n",
       "      <td>pide</td>\n",
       "      <td>pide</td>\n",
       "      <td>0</td>\n",
       "    </tr>\n",
       "    <tr>\n",
       "      <th>4</th>\n",
       "      <td>yellow</td>\n",
       "      <td>yellow</td>\n",
       "      <td>0</td>\n",
       "    </tr>\n",
       "    <tr>\n",
       "      <th>...</th>\n",
       "      <td>...</td>\n",
       "      <td>...</td>\n",
       "      <td>...</td>\n",
       "    </tr>\n",
       "    <tr>\n",
       "      <th>4971</th>\n",
       "      <td>yell</td>\n",
       "      <td>yell</td>\n",
       "      <td>0</td>\n",
       "    </tr>\n",
       "    <tr>\n",
       "      <th>4972</th>\n",
       "      <td>at</td>\n",
       "      <td>at</td>\n",
       "      <td>0</td>\n",
       "    </tr>\n",
       "    <tr>\n",
       "      <th>4973</th>\n",
       "      <td>confess</td>\n",
       "      <td>confess</td>\n",
       "      <td>0</td>\n",
       "    </tr>\n",
       "    <tr>\n",
       "      <th>4974</th>\n",
       "      <td>sincer</td>\n",
       "      <td>sincere</td>\n",
       "      <td>1</td>\n",
       "    </tr>\n",
       "    <tr>\n",
       "      <th>4975</th>\n",
       "      <td>richard</td>\n",
       "      <td>richard</td>\n",
       "      <td>0</td>\n",
       "    </tr>\n",
       "  </tbody>\n",
       "</table>\n",
       "<p>4976 rows × 3 columns</p>\n",
       "</div>"
      ],
      "text/plain": [
       "         Stem     Word  length difference\n",
       "0         día      día                  0\n",
       "1        pido     pido                  0\n",
       "2        hatr   hatred                  2\n",
       "3        pide     pide                  0\n",
       "4      yellow   yellow                  0\n",
       "...       ...      ...                ...\n",
       "4971     yell     yell                  0\n",
       "4972       at       at                  0\n",
       "4973  confess  confess                  0\n",
       "4974   sincer  sincere                  1\n",
       "4975  richard  richard                  0\n",
       "\n",
       "[4976 rows x 3 columns]"
      ]
     },
     "execution_count": 10,
     "metadata": {},
     "output_type": "execute_result"
    }
   ],
   "source": [
    "# compute the number of characters removed in the stemming process\n",
    "stemming[\"length difference\"] = stemming[\"Word\"].str.len() - stemming[\"Stem\"].str.len()\n",
    "stemming"
   ]
  },
  {
   "cell_type": "code",
   "execution_count": 11,
   "id": "2dc74197",
   "metadata": {},
   "outputs": [
    {
     "data": {
      "text/plain": [
       "'international'"
      ]
     },
     "execution_count": 11,
     "metadata": {},
     "output_type": "execute_result"
    }
   ],
   "source": [
    "# What word was shortened the most by the stemming process?\n",
    "# Find the maximum length difference\n",
    "max_length_difference = stemming['length difference'].max()\n",
    "\n",
    "# Find the word(s) that corresponds to this maximum length difference\n",
    "most_shortened_words = stemming[stemming['length difference'] == max_length_difference]['Word']\n",
    "\n",
    "# Assuming there is only one such word, otherwise, you might get multiple words\n",
    "q1_4 = most_shortened_words.iloc[0]\n",
    "\n",
    "q1_4"
   ]
  },
  {
   "cell_type": "markdown",
   "id": "3e7f6468",
   "metadata": {},
   "source": [
    "Step3: Split lycrics into 2 datasets called training_set and testing_set\n",
    "\n",
    "use training_set to determine an approach to classifying songs into genres.\n",
    "\n",
    "compare the predicted genres and observed genres in the testing_set.\n",
    "\n",
    "So training_set will help us to make classification and testing_set will help us to evaluate the classifications."
   ]
  },
  {
   "cell_type": "code",
   "execution_count": 12,
   "id": "528031a8",
   "metadata": {},
   "outputs": [],
   "source": [
    "# 80% for train\n",
    "training_proportion = 0.8\n",
    "\n",
    "number_songs = len(lyrics)\n",
    "number_training = int(number_songs * training_proportion)"
   ]
  },
  {
   "cell_type": "code",
   "execution_count": 14,
   "id": "cc840bfa",
   "metadata": {},
   "outputs": [],
   "source": [
    "# Randomly shuffled the rows of lyrics with the pandas function shuffle\n",
    "lyrics_shuffled = lyrics.sample(frac = 1, random_state = 42)\n",
    "\n",
    "training_set = lyrics_shuffled.iloc[:number_training]\n",
    "testing_set = lyrics_shuffled.iloc[number_training:]"
   ]
  },
  {
   "cell_type": "code",
   "execution_count": 15,
   "id": "8c42cb0b",
   "metadata": {},
   "outputs": [
    {
     "data": {
      "text/plain": [
       "False"
      ]
     },
     "execution_count": 15,
     "metadata": {},
     "output_type": "execute_result"
    }
   ],
   "source": [
    "# Test data split\n",
    "training_proportion_actual = len(training_set) / len(lyrics)\n",
    "\n",
    "q2_0 = training_proportion_actual == training_proportion\n",
    "\n",
    "q2_0"
   ]
  },
  {
   "cell_type": "code",
   "execution_count": 16,
   "id": "ee910297",
   "metadata": {},
   "outputs": [
    {
     "name": "stdout",
     "output_type": "stream",
     "text": [
      "0.4943820224719101\n",
      "0.5508982035928144\n"
     ]
    }
   ],
   "source": [
    "# Compute the proportion of Country songs in training_set and testing_set\n",
    "# ensure that training_set and testing_set have a mix of the genres\n",
    "proportion_country_training = (training_set['Genre'] == 'Country').mean()\n",
    "proportion_country_testing = (testing_set['Genre'] == 'Country').mean()\n",
    "\n",
    "print(proportion_country_training)\n",
    "print(proportion_country_testing)"
   ]
  },
  {
   "cell_type": "code",
   "execution_count": 17,
   "id": "f05fa3ea",
   "metadata": {},
   "outputs": [
    {
     "data": {
      "image/png": "[encoded data removed]",
      "text/plain": [
       "<Figure size 1000x800 with 1 Axes>"
      ]
     },
     "metadata": {},
     "output_type": "display_data"
    }
   ],
   "source": [
    "# generate a bar-chart from the proportions\n",
    "plt.barh([\"Testing\",\"Training\"], [proportion_country_testing, proportion_country_training])\n",
    "plt.title(\"Proportion of Country songs in Training/Testing sets\");"
   ]
  },
  {
   "cell_type": "markdown",
   "id": "dc9d89e4",
   "metadata": {},
   "source": [
    "Step4: Classification-use the k-nearest neighbors approach to classification.\n",
    "\n",
    "Each song in training_set and testing_set has a genre Country or Hip-hop for genre. However, we need to predict a genre for the songs in testing_set. If we want to classify a song in testing_set then we compare to the songs in training_set. We compare songs with the frequency of words. If the frequency of words in two songs are similar, then we expect the genre of the songs to be similar."
   ]
  },
  {
   "cell_type": "code",
   "execution_count": 18,
   "id": "ac31868a",
   "metadata": {},
   "outputs": [
    {
     "data": {
      "image/png": "[encoded data removed]",
      "text/plain": [
       "<Figure size 1000x800 with 1 Axes>"
      ]
     },
     "metadata": {},
     "output_type": "display_data"
    }
   ],
   "source": [
    "words = [\"like\", \"love\"]\n",
    "unlableled_points = [\"Sangria Wine\"]\n",
    "labeled_points = [\"In Your Eyes\", \"Insane In The Brain\"]\n",
    "\n",
    "helper_functions.generate_scatterplot(words, unlableled_points, labeled_points, testing_set, training_set)"
   ]
  },
  {
   "cell_type": "code",
   "execution_count": 19,
   "id": "a2baefd6",
   "metadata": {},
   "outputs": [
    {
     "data": {
      "text/html": [
       "<div>\n",
       "<style scoped>\n",
       "    .dataframe tbody tr th:only-of-type {\n",
       "        vertical-align: middle;\n",
       "    }\n",
       "\n",
       "    .dataframe tbody tr th {\n",
       "        vertical-align: top;\n",
       "    }\n",
       "\n",
       "    .dataframe thead th {\n",
       "        text-align: right;\n",
       "    }\n",
       "</style>\n",
       "<table border=\"1\" class=\"dataframe\">\n",
       "  <thead>\n",
       "    <tr style=\"text-align: right;\">\n",
       "      <th></th>\n",
       "      <th>Title</th>\n",
       "      <th>Artist</th>\n",
       "      <th>Genre</th>\n",
       "      <th>i</th>\n",
       "      <th>...</th>\n",
       "      <th>santo</th>\n",
       "      <th>pe</th>\n",
       "      <th>gee</th>\n",
       "      <th>colleg</th>\n",
       "    </tr>\n",
       "  </thead>\n",
       "  <tbody>\n",
       "    <tr>\n",
       "      <th>686</th>\n",
       "      <td>Sangria Wine</td>\n",
       "      <td>Jerry Jeff Walker</td>\n",
       "      <td>Country</td>\n",
       "      <td>0.088106</td>\n",
       "      <td>...</td>\n",
       "      <td>0.0</td>\n",
       "      <td>0.0</td>\n",
       "      <td>0.0</td>\n",
       "      <td>0.0</td>\n",
       "    </tr>\n",
       "  </tbody>\n",
       "</table>\n",
       "<p>1 rows × 4820 columns</p>\n",
       "</div>"
      ],
      "text/plain": [
       "            Title             Artist    Genre         i  ...  santo   pe  gee  \\\n",
       "686  Sangria Wine  Jerry Jeff Walker  Country  0.088106  ...    0.0  0.0  0.0   \n",
       "\n",
       "     colleg  \n",
       "686     0.0  \n",
       "\n",
       "[1 rows x 4820 columns]"
      ]
     },
     "execution_count": 19,
     "metadata": {},
     "output_type": "execute_result"
    }
   ],
   "source": [
    "testing_set[testing_set[\"Title\"] == \"Sangria Wine\"]"
   ]
  },
  {
   "cell_type": "code",
   "execution_count": 20,
   "id": "3bb10aee",
   "metadata": {},
   "outputs": [
    {
     "data": {
      "image/png": "[encoded data removed]",
      "text/plain": [
       "<Figure size 1000x800 with 1 Axes>"
      ]
     },
     "metadata": {},
     "output_type": "display_data"
    }
   ],
   "source": [
    "# Classifiy Sangria Wine as Country based on the words like and love\n",
    "words = [\"like\", \"love\"]\n",
    "unlableled_points = [\"Sangria Wine\"]\n",
    "labeled_points = [\"In Your Eyes\", \"One Time\", \"Insane In The Brain\"]\n",
    "\n",
    "helper_functions.generate_scatterplot(words, unlableled_points, labeled_points, testing_set, training_set)"
   ]
  },
  {
   "cell_type": "code",
   "execution_count": 21,
   "id": "8055bc77",
   "metadata": {},
   "outputs": [
    {
     "data": {
      "text/plain": [
       "0.03382894432459689"
      ]
     },
     "execution_count": 21,
     "metadata": {},
     "output_type": "execute_result"
    }
   ],
   "source": [
    "in_your_eyes = training_set.loc[training_set[\"Title\"] == \"In Your Eyes\",[\"like\",\"love\"]] \n",
    "sangria_wine = testing_set.loc[testing_set[\"Title\"] == \"Sangria Wine\",[\"like\",\"love\"]]\n",
    "\n",
    "distance = np.sum((sangria_wine.values - in_your_eyes.values)**2)\n",
    "distance = np.sqrt(distance)\n",
    "\n",
    "distance"
   ]
  },
  {
   "cell_type": "code",
   "execution_count": 22,
   "id": "cefac52e",
   "metadata": {},
   "outputs": [
    {
     "data": {
      "text/plain": [
       "0.03972572223189776"
      ]
     },
     "execution_count": 22,
     "metadata": {},
     "output_type": "execute_result"
    }
   ],
   "source": [
    "one_time = training_set.loc[training_set[\"Title\"] == \"One Time\", [\"like\",\"love\"]] \n",
    "sangria_wine = testing_set.loc[testing_set[\"Title\"] == \"Sangria Wine\", [\"like\",\"love\"]]\n",
    "\n",
    "distance = np.sum((sangria_wine.values - one_time.values)**2)\n",
    "distance = np.sqrt(distance)\n",
    "\n",
    "distance"
   ]
  },
  {
   "cell_type": "code",
   "execution_count": 23,
   "id": "692378ea",
   "metadata": {},
   "outputs": [],
   "source": [
    "def distance_two_songs(row_1, row_2, words):\n",
    "    coordinates_1 = row_1[words].astype(float)\n",
    "    coordinates_2 = row_2[words].astype(float)\n",
    "    squared_differences = (coordinates_1 - coordinates_2) ** 2\n",
    "\n",
    "    distance = np.sqrt(squared_differences.sum())\n",
    "    \n",
    "    return distance"
   ]
  },
  {
   "cell_type": "code",
   "execution_count": 24,
   "id": "25c0ac69",
   "metadata": {},
   "outputs": [
    {
     "name": "stdout",
     "output_type": "stream",
     "text": [
      "0.040367822490959014\n"
     ]
    }
   ],
   "source": [
    "in_your_eyes = training_set.loc[training_set[\"Title\"] == \"In Your Eyes\",:] \n",
    "sangria_wine = testing_set.loc[testing_set[\"Title\"] == \"Sangria Wine\",:]\n",
    "\n",
    "q2_1 = distance_two_songs(in_your_eyes.iloc[0], sangria_wine.iloc[0], ['like', 'love', 'the'])\n",
    "\n",
    "print(q2_1)"
   ]
  },
  {
   "cell_type": "code",
   "execution_count": 25,
   "id": "8172a4f9",
   "metadata": {},
   "outputs": [
    {
     "data": {
      "text/plain": [
       "array([0.09519904, 0.07280497, 0.1000939 , ..., 0.0892561 , 0.09677655,\n",
       "       0.09382014])"
      ]
     },
     "execution_count": 25,
     "metadata": {},
     "output_type": "execute_result"
    }
   ],
   "source": [
    "words = [\"like\", \"love\", \"the\"]\n",
    "row = testing_set.loc[testing_set[\"Title\"] == \"Sangria Wine\", :]\n",
    "\n",
    "distance = helper_functions.compute_distances(row, training_set, words)\n",
    "distance"
   ]
  },
  {
   "cell_type": "code",
   "execution_count": 26,
   "id": "2a6f992e",
   "metadata": {},
   "outputs": [
    {
     "data": {
      "text/html": [
       "<div>\n",
       "<style scoped>\n",
       "    .dataframe tbody tr th:only-of-type {\n",
       "        vertical-align: middle;\n",
       "    }\n",
       "\n",
       "    .dataframe tbody tr th {\n",
       "        vertical-align: top;\n",
       "    }\n",
       "\n",
       "    .dataframe thead th {\n",
       "        text-align: right;\n",
       "    }\n",
       "</style>\n",
       "<table border=\"1\" class=\"dataframe\">\n",
       "  <thead>\n",
       "    <tr style=\"text-align: right;\">\n",
       "      <th></th>\n",
       "      <th>Title</th>\n",
       "      <th>Artist</th>\n",
       "      <th>Genre</th>\n",
       "      <th>i</th>\n",
       "      <th>...</th>\n",
       "      <th>pe</th>\n",
       "      <th>gee</th>\n",
       "      <th>colleg</th>\n",
       "      <th>distance</th>\n",
       "    </tr>\n",
       "  </thead>\n",
       "  <tbody>\n",
       "    <tr>\n",
       "      <th>941</th>\n",
       "      <td>Bring It On Home To Me</td>\n",
       "      <td>Mickey Gilley</td>\n",
       "      <td>Country</td>\n",
       "      <td>0.052632</td>\n",
       "      <td>...</td>\n",
       "      <td>0.0</td>\n",
       "      <td>0.0</td>\n",
       "      <td>0.0</td>\n",
       "      <td>0.095199</td>\n",
       "    </tr>\n",
       "    <tr>\n",
       "      <th>988</th>\n",
       "      <td>Early morning riser</td>\n",
       "      <td>Pure Prairie League</td>\n",
       "      <td>Country</td>\n",
       "      <td>0.033962</td>\n",
       "      <td>...</td>\n",
       "      <td>0.0</td>\n",
       "      <td>0.0</td>\n",
       "      <td>0.0</td>\n",
       "      <td>0.072805</td>\n",
       "    </tr>\n",
       "    <tr>\n",
       "      <th>405</th>\n",
       "      <td>We Danced</td>\n",
       "      <td>Brad Paisley</td>\n",
       "      <td>Country</td>\n",
       "      <td>0.072289</td>\n",
       "      <td>...</td>\n",
       "      <td>0.0</td>\n",
       "      <td>0.0</td>\n",
       "      <td>0.0</td>\n",
       "      <td>0.100094</td>\n",
       "    </tr>\n",
       "    <tr>\n",
       "      <th>722</th>\n",
       "      <td>When We All Get To Heaven</td>\n",
       "      <td>Brad Paisley</td>\n",
       "      <td>Country</td>\n",
       "      <td>0.000000</td>\n",
       "      <td>...</td>\n",
       "      <td>0.0</td>\n",
       "      <td>0.0</td>\n",
       "      <td>0.0</td>\n",
       "      <td>0.098729</td>\n",
       "    </tr>\n",
       "    <tr>\n",
       "      <th>1614</th>\n",
       "      <td>Between The Daylight And The Dark</td>\n",
       "      <td>Mary Gauthier</td>\n",
       "      <td>Country</td>\n",
       "      <td>0.000000</td>\n",
       "      <td>...</td>\n",
       "      <td>0.0</td>\n",
       "      <td>0.0</td>\n",
       "      <td>0.0</td>\n",
       "      <td>0.124163</td>\n",
       "    </tr>\n",
       "    <tr>\n",
       "      <th>...</th>\n",
       "      <td>...</td>\n",
       "      <td>...</td>\n",
       "      <td>...</td>\n",
       "      <td>...</td>\n",
       "      <td>...</td>\n",
       "      <td>...</td>\n",
       "      <td>...</td>\n",
       "      <td>...</td>\n",
       "      <td>...</td>\n",
       "    </tr>\n",
       "    <tr>\n",
       "      <th>658</th>\n",
       "      <td>I Can</td>\n",
       "      <td>Nas</td>\n",
       "      <td>Hip-hop</td>\n",
       "      <td>0.108876</td>\n",
       "      <td>...</td>\n",
       "      <td>0.0</td>\n",
       "      <td>0.0</td>\n",
       "      <td>0.0</td>\n",
       "      <td>0.092734</td>\n",
       "    </tr>\n",
       "    <tr>\n",
       "      <th>1357</th>\n",
       "      <td>Sinequanon</td>\n",
       "      <td>Hybrid</td>\n",
       "      <td>Hip-hop</td>\n",
       "      <td>0.000000</td>\n",
       "      <td>...</td>\n",
       "      <td>0.0</td>\n",
       "      <td>0.0</td>\n",
       "      <td>0.0</td>\n",
       "      <td>0.092137</td>\n",
       "    </tr>\n",
       "    <tr>\n",
       "      <th>1019</th>\n",
       "      <td>Taste This</td>\n",
       "      <td>Mýa</td>\n",
       "      <td>Hip-hop</td>\n",
       "      <td>0.051667</td>\n",
       "      <td>...</td>\n",
       "      <td>0.0</td>\n",
       "      <td>0.0</td>\n",
       "      <td>0.0</td>\n",
       "      <td>0.089256</td>\n",
       "    </tr>\n",
       "    <tr>\n",
       "      <th>1599</th>\n",
       "      <td>Duck Sick</td>\n",
       "      <td>Compton's Most Wanted</td>\n",
       "      <td>Hip-hop</td>\n",
       "      <td>0.031293</td>\n",
       "      <td>...</td>\n",
       "      <td>0.0</td>\n",
       "      <td>0.0</td>\n",
       "      <td>0.0</td>\n",
       "      <td>0.096777</td>\n",
       "    </tr>\n",
       "    <tr>\n",
       "      <th>959</th>\n",
       "      <td>Matchbox</td>\n",
       "      <td>Carl Perkins</td>\n",
       "      <td>Country</td>\n",
       "      <td>0.077465</td>\n",
       "      <td>...</td>\n",
       "      <td>0.0</td>\n",
       "      <td>0.0</td>\n",
       "      <td>0.0</td>\n",
       "      <td>0.093820</td>\n",
       "    </tr>\n",
       "  </tbody>\n",
       "</table>\n",
       "<p>1335 rows × 4821 columns</p>\n",
       "</div>"
      ],
      "text/plain": [
       "                                  Title                 Artist    Genre  \\\n",
       "941              Bring It On Home To Me          Mickey Gilley  Country   \n",
       "988                 Early morning riser    Pure Prairie League  Country   \n",
       "405                           We Danced           Brad Paisley  Country   \n",
       "722           When We All Get To Heaven           Brad Paisley  Country   \n",
       "1614  Between The Daylight And The Dark          Mary Gauthier  Country   \n",
       "...                                 ...                    ...      ...   \n",
       "658                               I Can                    Nas  Hip-hop   \n",
       "1357                         Sinequanon                 Hybrid  Hip-hop   \n",
       "1019                         Taste This                    Mýa  Hip-hop   \n",
       "1599                          Duck Sick  Compton's Most Wanted  Hip-hop   \n",
       "959                            Matchbox           Carl Perkins  Country   \n",
       "\n",
       "             i  ...   pe  gee  colleg  distance  \n",
       "941   0.052632  ...  0.0  0.0     0.0  0.095199  \n",
       "988   0.033962  ...  0.0  0.0     0.0  0.072805  \n",
       "405   0.072289  ...  0.0  0.0     0.0  0.100094  \n",
       "722   0.000000  ...  0.0  0.0     0.0  0.098729  \n",
       "1614  0.000000  ...  0.0  0.0     0.0  0.124163  \n",
       "...        ...  ...  ...  ...     ...       ...  \n",
       "658   0.108876  ...  0.0  0.0     0.0  0.092734  \n",
       "1357  0.000000  ...  0.0  0.0     0.0  0.092137  \n",
       "1019  0.051667  ...  0.0  0.0     0.0  0.089256  \n",
       "1599  0.031293  ...  0.0  0.0     0.0  0.096777  \n",
       "959   0.077465  ...  0.0  0.0     0.0  0.093820  \n",
       "\n",
       "[1335 rows x 4821 columns]"
      ]
     },
     "execution_count": 26,
     "metadata": {},
     "output_type": "execute_result"
    }
   ],
   "source": [
    "training_set_with_distance = training_set.copy()\n",
    "training_set_with_distance[\"distance\"] = distance\n",
    "training_set_with_distance"
   ]
  },
  {
   "cell_type": "code",
   "execution_count": 27,
   "id": "f050eeb1",
   "metadata": {},
   "outputs": [
    {
     "name": "stdout",
     "output_type": "stream",
     "text": [
      "I'm In Love\n"
     ]
    }
   ],
   "source": [
    "index_of_smallest_distance = training_set_with_distance['distance'].idxmin()\n",
    "\n",
    "q2_2_1 = training_set_with_distance.loc[index_of_smallest_distance, 'Title']\n",
    "\n",
    "print(q2_2_1)"
   ]
  },
  {
   "cell_type": "code",
   "execution_count": 28,
   "id": "1032d771",
   "metadata": {},
   "outputs": [
    {
     "name": "stdout",
     "output_type": "stream",
     "text": [
      "Hip-hop\n"
     ]
    }
   ],
   "source": [
    "q2_2_2 = training_set_with_distance.loc[index_of_smallest_distance, 'Genre']\n",
    "\n",
    "print(q2_2_2)"
   ]
  },
  {
   "cell_type": "code",
   "execution_count": 29,
   "id": "fffa0815",
   "metadata": {},
   "outputs": [
    {
     "data": {
      "text/html": [
       "<div>\n",
       "<style scoped>\n",
       "    .dataframe tbody tr th:only-of-type {\n",
       "        vertical-align: middle;\n",
       "    }\n",
       "\n",
       "    .dataframe tbody tr th {\n",
       "        vertical-align: top;\n",
       "    }\n",
       "\n",
       "    .dataframe thead th {\n",
       "        text-align: right;\n",
       "    }\n",
       "</style>\n",
       "<table border=\"1\" class=\"dataframe\">\n",
       "  <thead>\n",
       "    <tr style=\"text-align: right;\">\n",
       "      <th></th>\n",
       "      <th>Title</th>\n",
       "      <th>Artist</th>\n",
       "      <th>Genre</th>\n",
       "      <th>i</th>\n",
       "      <th>...</th>\n",
       "      <th>pe</th>\n",
       "      <th>gee</th>\n",
       "      <th>colleg</th>\n",
       "      <th>distance</th>\n",
       "    </tr>\n",
       "  </thead>\n",
       "  <tbody>\n",
       "    <tr>\n",
       "      <th>331</th>\n",
       "      <td>I'm In Love</td>\n",
       "      <td>Evelyn Champagne\" King\"</td>\n",
       "      <td>Hip-hop</td>\n",
       "      <td>0.052045</td>\n",
       "      <td>...</td>\n",
       "      <td>0.0</td>\n",
       "      <td>0.0</td>\n",
       "      <td>0.0</td>\n",
       "      <td>0.013627</td>\n",
       "    </tr>\n",
       "    <tr>\n",
       "      <th>1061</th>\n",
       "      <td>Your Love Gets Sweeter</td>\n",
       "      <td>Finley Quaye</td>\n",
       "      <td>Hip-hop</td>\n",
       "      <td>0.029536</td>\n",
       "      <td>...</td>\n",
       "      <td>0.0</td>\n",
       "      <td>0.0</td>\n",
       "      <td>0.0</td>\n",
       "      <td>0.021870</td>\n",
       "    </tr>\n",
       "    <tr>\n",
       "      <th>1534</th>\n",
       "      <td>All My Love</td>\n",
       "      <td>112</td>\n",
       "      <td>Hip-hop</td>\n",
       "      <td>0.020073</td>\n",
       "      <td>...</td>\n",
       "      <td>0.0</td>\n",
       "      <td>0.0</td>\n",
       "      <td>0.0</td>\n",
       "      <td>0.022150</td>\n",
       "    </tr>\n",
       "    <tr>\n",
       "      <th>810</th>\n",
       "      <td>Baby Love</td>\n",
       "      <td>MC Solaar</td>\n",
       "      <td>Hip-hop</td>\n",
       "      <td>0.000000</td>\n",
       "      <td>...</td>\n",
       "      <td>0.0</td>\n",
       "      <td>0.0</td>\n",
       "      <td>0.0</td>\n",
       "      <td>0.022844</td>\n",
       "    </tr>\n",
       "    <tr>\n",
       "      <th>464</th>\n",
       "      <td>True Love Ways</td>\n",
       "      <td>Mickey Gilley</td>\n",
       "      <td>Country</td>\n",
       "      <td>0.032520</td>\n",
       "      <td>...</td>\n",
       "      <td>0.0</td>\n",
       "      <td>0.0</td>\n",
       "      <td>0.0</td>\n",
       "      <td>0.028413</td>\n",
       "    </tr>\n",
       "    <tr>\n",
       "      <th>...</th>\n",
       "      <td>...</td>\n",
       "      <td>...</td>\n",
       "      <td>...</td>\n",
       "      <td>...</td>\n",
       "      <td>...</td>\n",
       "      <td>...</td>\n",
       "      <td>...</td>\n",
       "      <td>...</td>\n",
       "      <td>...</td>\n",
       "    </tr>\n",
       "    <tr>\n",
       "      <th>409</th>\n",
       "      <td>Tumbling Down</td>\n",
       "      <td>Allison Moorer</td>\n",
       "      <td>Country</td>\n",
       "      <td>0.008130</td>\n",
       "      <td>...</td>\n",
       "      <td>0.0</td>\n",
       "      <td>0.0</td>\n",
       "      <td>0.0</td>\n",
       "      <td>0.037901</td>\n",
       "    </tr>\n",
       "    <tr>\n",
       "      <th>1049</th>\n",
       "      <td>Dear Life</td>\n",
       "      <td>Anthony Hamilton</td>\n",
       "      <td>Hip-hop</td>\n",
       "      <td>0.054795</td>\n",
       "      <td>...</td>\n",
       "      <td>0.0</td>\n",
       "      <td>0.0</td>\n",
       "      <td>0.0</td>\n",
       "      <td>0.038197</td>\n",
       "    </tr>\n",
       "    <tr>\n",
       "      <th>232</th>\n",
       "      <td>When Love Finds You</td>\n",
       "      <td>Vince Gill</td>\n",
       "      <td>Country</td>\n",
       "      <td>0.000000</td>\n",
       "      <td>...</td>\n",
       "      <td>0.0</td>\n",
       "      <td>0.0</td>\n",
       "      <td>0.0</td>\n",
       "      <td>0.039807</td>\n",
       "    </tr>\n",
       "    <tr>\n",
       "      <th>1403</th>\n",
       "      <td>The Hardest Part</td>\n",
       "      <td>Allison Moorer</td>\n",
       "      <td>Country</td>\n",
       "      <td>0.007143</td>\n",
       "      <td>...</td>\n",
       "      <td>0.0</td>\n",
       "      <td>0.0</td>\n",
       "      <td>0.0</td>\n",
       "      <td>0.039982</td>\n",
       "    </tr>\n",
       "    <tr>\n",
       "      <th>1427</th>\n",
       "      <td>My Maria</td>\n",
       "      <td>B.W. Stevenson</td>\n",
       "      <td>Country</td>\n",
       "      <td>0.071006</td>\n",
       "      <td>...</td>\n",
       "      <td>0.0</td>\n",
       "      <td>0.0</td>\n",
       "      <td>0.0</td>\n",
       "      <td>0.040006</td>\n",
       "    </tr>\n",
       "  </tbody>\n",
       "</table>\n",
       "<p>15 rows × 4821 columns</p>\n",
       "</div>"
      ],
      "text/plain": [
       "                       Title                   Artist    Genre         i  ...  \\\n",
       "331              I'm In Love  Evelyn Champagne\" King\"  Hip-hop  0.052045  ...   \n",
       "1061  Your Love Gets Sweeter             Finley Quaye  Hip-hop  0.029536  ...   \n",
       "1534             All My Love                      112  Hip-hop  0.020073  ...   \n",
       "810                Baby Love                MC Solaar  Hip-hop  0.000000  ...   \n",
       "464           True Love Ways            Mickey Gilley  Country  0.032520  ...   \n",
       "...                      ...                      ...      ...       ...  ...   \n",
       "409            Tumbling Down           Allison Moorer  Country  0.008130  ...   \n",
       "1049               Dear Life         Anthony Hamilton  Hip-hop  0.054795  ...   \n",
       "232      When Love Finds You               Vince Gill  Country  0.000000  ...   \n",
       "1403        The Hardest Part           Allison Moorer  Country  0.007143  ...   \n",
       "1427                My Maria           B.W. Stevenson  Country  0.071006  ...   \n",
       "\n",
       "       pe  gee  colleg  distance  \n",
       "331   0.0  0.0     0.0  0.013627  \n",
       "1061  0.0  0.0     0.0  0.021870  \n",
       "1534  0.0  0.0     0.0  0.022150  \n",
       "810   0.0  0.0     0.0  0.022844  \n",
       "464   0.0  0.0     0.0  0.028413  \n",
       "...   ...  ...     ...       ...  \n",
       "409   0.0  0.0     0.0  0.037901  \n",
       "1049  0.0  0.0     0.0  0.038197  \n",
       "232   0.0  0.0     0.0  0.039807  \n",
       "1403  0.0  0.0     0.0  0.039982  \n",
       "1427  0.0  0.0     0.0  0.040006  \n",
       "\n",
       "[15 rows x 4821 columns]"
      ]
     },
     "execution_count": 29,
     "metadata": {},
     "output_type": "execute_result"
    }
   ],
   "source": [
    "training_set_with_distance_top_15 = training_set_with_distance.sort_values(\"distance\", ascending = True).head(15)\n",
    "training_set_with_distance_top_15"
   ]
  },
  {
   "cell_type": "code",
   "execution_count": 30,
   "id": "601bb884",
   "metadata": {},
   "outputs": [
    {
     "name": "stdout",
     "output_type": "stream",
     "text": [
      "8\n",
      "7\n"
     ]
    }
   ],
   "source": [
    "count_country_nearest_neighbors = training_set_with_distance_top_15['Genre'].value_counts()['Country']\n",
    "count_hiphop_nearest_neighbors = training_set_with_distance_top_15['Genre'].value_counts()['Hip-hop']\n",
    "\n",
    "print(count_country_nearest_neighbors)\n",
    "print(count_hiphop_nearest_neighbors)"
   ]
  },
  {
   "cell_type": "code",
   "execution_count": 31,
   "id": "c573b711",
   "metadata": {},
   "outputs": [
    {
     "name": "stdout",
     "output_type": "stream",
     "text": [
      "Country\n"
     ]
    }
   ],
   "source": [
    "# Classify 'Sangria Wine' based on the majority genre of the 15 nearest neighbors\n",
    "if count_country_nearest_neighbors > count_hiphop_nearest_neighbors:\n",
    "    q4_1 = 'Country'\n",
    "elif count_hiphop_nearest_neighbors > count_country_nearest_neighbors:\n",
    "    q4_1 = 'Hip-hop'\n",
    "else:\n",
    "    q4_1 = 'Tie' \n",
    "print(q4_1)"
   ]
  },
  {
   "cell_type": "code",
   "execution_count": 32,
   "id": "11a3a8bc",
   "metadata": {},
   "outputs": [],
   "source": [
    "def compute_mode(column, table):\n",
    "    return table[column].mode().values[0]"
   ]
  },
  {
   "cell_type": "code",
   "execution_count": 33,
   "id": "fd9dea68",
   "metadata": {},
   "outputs": [
    {
     "data": {
      "text/html": [
       "<div>\n",
       "<style scoped>\n",
       "    .dataframe tbody tr th:only-of-type {\n",
       "        vertical-align: middle;\n",
       "    }\n",
       "\n",
       "    .dataframe tbody tr th {\n",
       "        vertical-align: top;\n",
       "    }\n",
       "\n",
       "    .dataframe thead th {\n",
       "        text-align: right;\n",
       "    }\n",
       "</style>\n",
       "<table border=\"1\" class=\"dataframe\">\n",
       "  <thead>\n",
       "    <tr style=\"text-align: right;\">\n",
       "      <th></th>\n",
       "      <th>Title</th>\n",
       "      <th>Artist</th>\n",
       "      <th>Genre</th>\n",
       "      <th>i</th>\n",
       "      <th>...</th>\n",
       "      <th>pe</th>\n",
       "      <th>gee</th>\n",
       "      <th>colleg</th>\n",
       "      <th>distance</th>\n",
       "    </tr>\n",
       "  </thead>\n",
       "  <tbody>\n",
       "    <tr>\n",
       "      <th>331</th>\n",
       "      <td>I'm In Love</td>\n",
       "      <td>Evelyn Champagne\" King\"</td>\n",
       "      <td>Hip-hop</td>\n",
       "      <td>0.052045</td>\n",
       "      <td>...</td>\n",
       "      <td>0.0</td>\n",
       "      <td>0.0</td>\n",
       "      <td>0.0</td>\n",
       "      <td>0.013627</td>\n",
       "    </tr>\n",
       "    <tr>\n",
       "      <th>1061</th>\n",
       "      <td>Your Love Gets Sweeter</td>\n",
       "      <td>Finley Quaye</td>\n",
       "      <td>Hip-hop</td>\n",
       "      <td>0.029536</td>\n",
       "      <td>...</td>\n",
       "      <td>0.0</td>\n",
       "      <td>0.0</td>\n",
       "      <td>0.0</td>\n",
       "      <td>0.021870</td>\n",
       "    </tr>\n",
       "    <tr>\n",
       "      <th>1534</th>\n",
       "      <td>All My Love</td>\n",
       "      <td>112</td>\n",
       "      <td>Hip-hop</td>\n",
       "      <td>0.020073</td>\n",
       "      <td>...</td>\n",
       "      <td>0.0</td>\n",
       "      <td>0.0</td>\n",
       "      <td>0.0</td>\n",
       "      <td>0.022150</td>\n",
       "    </tr>\n",
       "    <tr>\n",
       "      <th>810</th>\n",
       "      <td>Baby Love</td>\n",
       "      <td>MC Solaar</td>\n",
       "      <td>Hip-hop</td>\n",
       "      <td>0.000000</td>\n",
       "      <td>...</td>\n",
       "      <td>0.0</td>\n",
       "      <td>0.0</td>\n",
       "      <td>0.0</td>\n",
       "      <td>0.022844</td>\n",
       "    </tr>\n",
       "    <tr>\n",
       "      <th>464</th>\n",
       "      <td>True Love Ways</td>\n",
       "      <td>Mickey Gilley</td>\n",
       "      <td>Country</td>\n",
       "      <td>0.032520</td>\n",
       "      <td>...</td>\n",
       "      <td>0.0</td>\n",
       "      <td>0.0</td>\n",
       "      <td>0.0</td>\n",
       "      <td>0.028413</td>\n",
       "    </tr>\n",
       "    <tr>\n",
       "      <th>...</th>\n",
       "      <td>...</td>\n",
       "      <td>...</td>\n",
       "      <td>...</td>\n",
       "      <td>...</td>\n",
       "      <td>...</td>\n",
       "      <td>...</td>\n",
       "      <td>...</td>\n",
       "      <td>...</td>\n",
       "      <td>...</td>\n",
       "    </tr>\n",
       "    <tr>\n",
       "      <th>1384</th>\n",
       "      <td>Almost in Love</td>\n",
       "      <td>Nate Dogg</td>\n",
       "      <td>Hip-hop</td>\n",
       "      <td>0.033019</td>\n",
       "      <td>...</td>\n",
       "      <td>0.0</td>\n",
       "      <td>0.0</td>\n",
       "      <td>0.0</td>\n",
       "      <td>0.050351</td>\n",
       "    </tr>\n",
       "    <tr>\n",
       "      <th>163</th>\n",
       "      <td>You Will Be My Ain True Love</td>\n",
       "      <td>Alison Krauss</td>\n",
       "      <td>Country</td>\n",
       "      <td>0.021739</td>\n",
       "      <td>...</td>\n",
       "      <td>0.0</td>\n",
       "      <td>0.0</td>\n",
       "      <td>0.0</td>\n",
       "      <td>0.050883</td>\n",
       "    </tr>\n",
       "    <tr>\n",
       "      <th>1131</th>\n",
       "      <td>My Babe</td>\n",
       "      <td>Mickey Gilley</td>\n",
       "      <td>Country</td>\n",
       "      <td>0.045226</td>\n",
       "      <td>...</td>\n",
       "      <td>0.0</td>\n",
       "      <td>0.0</td>\n",
       "      <td>0.0</td>\n",
       "      <td>0.052349</td>\n",
       "    </tr>\n",
       "    <tr>\n",
       "      <th>1079</th>\n",
       "      <td>A Love That Will Never Grow Old</td>\n",
       "      <td>Emmylou Harris</td>\n",
       "      <td>Country</td>\n",
       "      <td>0.045198</td>\n",
       "      <td>...</td>\n",
       "      <td>0.0</td>\n",
       "      <td>0.0</td>\n",
       "      <td>0.0</td>\n",
       "      <td>0.053342</td>\n",
       "    </tr>\n",
       "    <tr>\n",
       "      <th>54</th>\n",
       "      <td>Mama Knew Love</td>\n",
       "      <td>Anthony Hamilton</td>\n",
       "      <td>Hip-hop</td>\n",
       "      <td>0.038660</td>\n",
       "      <td>...</td>\n",
       "      <td>0.0</td>\n",
       "      <td>0.0</td>\n",
       "      <td>0.0</td>\n",
       "      <td>0.053709</td>\n",
       "    </tr>\n",
       "  </tbody>\n",
       "</table>\n",
       "<p>31 rows × 4821 columns</p>\n",
       "</div>"
      ],
      "text/plain": [
       "                                Title                   Artist    Genre  \\\n",
       "331                       I'm In Love  Evelyn Champagne\" King\"  Hip-hop   \n",
       "1061           Your Love Gets Sweeter             Finley Quaye  Hip-hop   \n",
       "1534                      All My Love                      112  Hip-hop   \n",
       "810                         Baby Love                MC Solaar  Hip-hop   \n",
       "464                    True Love Ways            Mickey Gilley  Country   \n",
       "...                               ...                      ...      ...   \n",
       "1384                   Almost in Love                Nate Dogg  Hip-hop   \n",
       "163      You Will Be My Ain True Love            Alison Krauss  Country   \n",
       "1131                          My Babe            Mickey Gilley  Country   \n",
       "1079  A Love That Will Never Grow Old           Emmylou Harris  Country   \n",
       "54                     Mama Knew Love         Anthony Hamilton  Hip-hop   \n",
       "\n",
       "             i  ...   pe  gee  colleg  distance  \n",
       "331   0.052045  ...  0.0  0.0     0.0  0.013627  \n",
       "1061  0.029536  ...  0.0  0.0     0.0  0.021870  \n",
       "1534  0.020073  ...  0.0  0.0     0.0  0.022150  \n",
       "810   0.000000  ...  0.0  0.0     0.0  0.022844  \n",
       "464   0.032520  ...  0.0  0.0     0.0  0.028413  \n",
       "...        ...  ...  ...  ...     ...       ...  \n",
       "1384  0.033019  ...  0.0  0.0     0.0  0.050351  \n",
       "163   0.021739  ...  0.0  0.0     0.0  0.050883  \n",
       "1131  0.045226  ...  0.0  0.0     0.0  0.052349  \n",
       "1079  0.045198  ...  0.0  0.0     0.0  0.053342  \n",
       "54    0.038660  ...  0.0  0.0     0.0  0.053709  \n",
       "\n",
       "[31 rows x 4821 columns]"
      ]
     },
     "execution_count": 33,
     "metadata": {},
     "output_type": "execute_result"
    }
   ],
   "source": [
    "training_set_with_distance_top_31 = training_set_with_distance.sort_values(\"distance\", ascending = True).head(31)\n",
    "training_set_with_distance_top_31"
   ]
  },
  {
   "cell_type": "code",
   "execution_count": 34,
   "id": "b51af36f",
   "metadata": {},
   "outputs": [
    {
     "name": "stdout",
     "output_type": "stream",
     "text": [
      "Country\n"
     ]
    }
   ],
   "source": [
    "q4_2 = compute_mode('Genre', training_set_with_distance_top_31)\n",
    "print(q4_2)"
   ]
  },
  {
   "cell_type": "code",
   "execution_count": 35,
   "id": "2897909b",
   "metadata": {},
   "outputs": [],
   "source": [
    "words = [\"like\",\"love\",\"the\",\"street\",\"style\",\"truck\",\"lone\"]"
   ]
  },
  {
   "cell_type": "code",
   "execution_count": 36,
   "id": "c7095e97",
   "metadata": {},
   "outputs": [],
   "source": [
    "training_set_with_distance = training_set.copy()"
   ]
  },
  {
   "cell_type": "code",
   "execution_count": 76,
   "id": "8ddd4da4",
   "metadata": {},
   "outputs": [],
   "source": [
    "k = 15"
   ]
  },
  {
   "cell_type": "code",
   "execution_count": 77,
   "id": "3f209110",
   "metadata": {},
   "outputs": [],
   "source": [
    "predictions = []\n",
    "\n",
    "# iterate through the rows of testing_set\n",
    "for idx, row in testing_set.iterrows():\n",
    "    #compute distance from a song to the songs in training_set\n",
    "    distance = helper_functions.compute_distances(row, training_set_with_distance, words)\n",
    "    training_set_with_distance[\"distance\"] = distance\n",
    "    \n",
    "    # sort the songs in traing_set by distance\n",
    "    training_set_with_distance_top_k = training_set_with_distance.sort_values(\"distance\", ascending = True).head(k)\n",
    "    \n",
    "    # determine mode \n",
    "    prediction = compute_mode(\"Genre\", training_set_with_distance_top_k)\n",
    "    \n",
    "    # record the prediction\n",
    "    predictions.append(prediction)"
   ]
  },
  {
   "cell_type": "code",
   "execution_count": 78,
   "id": "08d7c044",
   "metadata": {},
   "outputs": [
    {
     "name": "stdout",
     "output_type": "stream",
     "text": [
      "196\n",
      "138\n"
     ]
    }
   ],
   "source": [
    "# Calculate how many songs have classified Country and How many songs have classified Hip-hop\n",
    "count_country_testing = sum([pred == 'Country' for pred in predictions])\n",
    "count_hiphop_testing = sum([pred == 'Hip-hop' for pred in predictions])\n",
    "print(count_country_testing)\n",
    "print(count_hiphop_testing)"
   ]
  },
  {
   "cell_type": "code",
   "execution_count": 79,
   "id": "359add64",
   "metadata": {},
   "outputs": [
    {
     "data": {
      "text/html": [
       "<div>\n",
       "<style scoped>\n",
       "    .dataframe tbody tr th:only-of-type {\n",
       "        vertical-align: middle;\n",
       "    }\n",
       "\n",
       "    .dataframe tbody tr th {\n",
       "        vertical-align: top;\n",
       "    }\n",
       "\n",
       "    .dataframe thead th {\n",
       "        text-align: right;\n",
       "    }\n",
       "</style>\n",
       "<table border=\"1\" class=\"dataframe\">\n",
       "  <thead>\n",
       "    <tr style=\"text-align: right;\">\n",
       "      <th></th>\n",
       "      <th>Title</th>\n",
       "      <th>Artist</th>\n",
       "      <th>Genre</th>\n",
       "      <th>i</th>\n",
       "      <th>...</th>\n",
       "      <th>pe</th>\n",
       "      <th>gee</th>\n",
       "      <th>colleg</th>\n",
       "      <th>predictions</th>\n",
       "    </tr>\n",
       "  </thead>\n",
       "  <tbody>\n",
       "    <tr>\n",
       "      <th>1565</th>\n",
       "      <td>Just Say She's A Rhymer</td>\n",
       "      <td>Mary Gauthier</td>\n",
       "      <td>Country</td>\n",
       "      <td>0.064327</td>\n",
       "      <td>...</td>\n",
       "      <td>0.0</td>\n",
       "      <td>0.0</td>\n",
       "      <td>0.0</td>\n",
       "      <td>Country</td>\n",
       "    </tr>\n",
       "    <tr>\n",
       "      <th>283</th>\n",
       "      <td>John Walker's Blues</td>\n",
       "      <td>Steve Earle</td>\n",
       "      <td>Country</td>\n",
       "      <td>0.038462</td>\n",
       "      <td>...</td>\n",
       "      <td>0.0</td>\n",
       "      <td>0.0</td>\n",
       "      <td>0.0</td>\n",
       "      <td>Hip-hop</td>\n",
       "    </tr>\n",
       "    <tr>\n",
       "      <th>797</th>\n",
       "      <td>My Baby Walked Right Out On Me</td>\n",
       "      <td>Wanda Jackson</td>\n",
       "      <td>Country</td>\n",
       "      <td>0.055046</td>\n",
       "      <td>...</td>\n",
       "      <td>0.0</td>\n",
       "      <td>0.0</td>\n",
       "      <td>0.0</td>\n",
       "      <td>Country</td>\n",
       "    </tr>\n",
       "    <tr>\n",
       "      <th>1358</th>\n",
       "      <td>I Am a Man of Constant Sorrow</td>\n",
       "      <td>Alison Krauss &amp; Union Station</td>\n",
       "      <td>Country</td>\n",
       "      <td>0.079602</td>\n",
       "      <td>...</td>\n",
       "      <td>0.0</td>\n",
       "      <td>0.0</td>\n",
       "      <td>0.0</td>\n",
       "      <td>Country</td>\n",
       "    </tr>\n",
       "    <tr>\n",
       "      <th>225</th>\n",
       "      <td>Asd</td>\n",
       "      <td>ASD</td>\n",
       "      <td>Hip-hop</td>\n",
       "      <td>0.000000</td>\n",
       "      <td>...</td>\n",
       "      <td>0.0</td>\n",
       "      <td>0.0</td>\n",
       "      <td>0.0</td>\n",
       "      <td>Hip-hop</td>\n",
       "    </tr>\n",
       "    <tr>\n",
       "      <th>...</th>\n",
       "      <td>...</td>\n",
       "      <td>...</td>\n",
       "      <td>...</td>\n",
       "      <td>...</td>\n",
       "      <td>...</td>\n",
       "      <td>...</td>\n",
       "      <td>...</td>\n",
       "      <td>...</td>\n",
       "      <td>...</td>\n",
       "    </tr>\n",
       "    <tr>\n",
       "      <th>1130</th>\n",
       "      <td>Marijuano Locos (Stoned Raiders)</td>\n",
       "      <td>Cypress Hill</td>\n",
       "      <td>Hip-hop</td>\n",
       "      <td>0.000000</td>\n",
       "      <td>...</td>\n",
       "      <td>0.0</td>\n",
       "      <td>0.0</td>\n",
       "      <td>0.0</td>\n",
       "      <td>Hip-hop</td>\n",
       "    </tr>\n",
       "    <tr>\n",
       "      <th>1294</th>\n",
       "      <td>Pop A Top</td>\n",
       "      <td>Jim Ed Brown &amp; The Browns</td>\n",
       "      <td>Country</td>\n",
       "      <td>0.067708</td>\n",
       "      <td>...</td>\n",
       "      <td>0.0</td>\n",
       "      <td>0.0</td>\n",
       "      <td>0.0</td>\n",
       "      <td>Hip-hop</td>\n",
       "    </tr>\n",
       "    <tr>\n",
       "      <th>860</th>\n",
       "      <td>Maria</td>\n",
       "      <td>Kathleen Edwards</td>\n",
       "      <td>Country</td>\n",
       "      <td>0.068783</td>\n",
       "      <td>...</td>\n",
       "      <td>0.0</td>\n",
       "      <td>0.0</td>\n",
       "      <td>0.0</td>\n",
       "      <td>Country</td>\n",
       "    </tr>\n",
       "    <tr>\n",
       "      <th>1459</th>\n",
       "      <td>Pa</td>\n",
       "      <td>Ryan Adams &amp; The Cardinals</td>\n",
       "      <td>Country</td>\n",
       "      <td>0.021978</td>\n",
       "      <td>...</td>\n",
       "      <td>0.0</td>\n",
       "      <td>0.0</td>\n",
       "      <td>0.0</td>\n",
       "      <td>Hip-hop</td>\n",
       "    </tr>\n",
       "    <tr>\n",
       "      <th>1126</th>\n",
       "      <td>You Can Have Her</td>\n",
       "      <td>Jim Ed Brown &amp; The Browns</td>\n",
       "      <td>Country</td>\n",
       "      <td>0.052133</td>\n",
       "      <td>...</td>\n",
       "      <td>0.0</td>\n",
       "      <td>0.0</td>\n",
       "      <td>0.0</td>\n",
       "      <td>Country</td>\n",
       "    </tr>\n",
       "  </tbody>\n",
       "</table>\n",
       "<p>334 rows × 4821 columns</p>\n",
       "</div>"
      ],
      "text/plain": [
       "                                 Title                         Artist  \\\n",
       "1565           Just Say She's A Rhymer                  Mary Gauthier   \n",
       "283                John Walker's Blues                    Steve Earle   \n",
       "797     My Baby Walked Right Out On Me                  Wanda Jackson   \n",
       "1358     I Am a Man of Constant Sorrow  Alison Krauss & Union Station   \n",
       "225                                Asd                            ASD   \n",
       "...                                ...                            ...   \n",
       "1130  Marijuano Locos (Stoned Raiders)                   Cypress Hill   \n",
       "1294                         Pop A Top      Jim Ed Brown & The Browns   \n",
       "860                              Maria               Kathleen Edwards   \n",
       "1459                                Pa     Ryan Adams & The Cardinals   \n",
       "1126                  You Can Have Her      Jim Ed Brown & The Browns   \n",
       "\n",
       "        Genre         i  ...   pe  gee  colleg  predictions  \n",
       "1565  Country  0.064327  ...  0.0  0.0     0.0      Country  \n",
       "283   Country  0.038462  ...  0.0  0.0     0.0      Hip-hop  \n",
       "797   Country  0.055046  ...  0.0  0.0     0.0      Country  \n",
       "1358  Country  0.079602  ...  0.0  0.0     0.0      Country  \n",
       "225   Hip-hop  0.000000  ...  0.0  0.0     0.0      Hip-hop  \n",
       "...       ...       ...  ...  ...  ...     ...          ...  \n",
       "1130  Hip-hop  0.000000  ...  0.0  0.0     0.0      Hip-hop  \n",
       "1294  Country  0.067708  ...  0.0  0.0     0.0      Hip-hop  \n",
       "860   Country  0.068783  ...  0.0  0.0     0.0      Country  \n",
       "1459  Country  0.021978  ...  0.0  0.0     0.0      Hip-hop  \n",
       "1126  Country  0.052133  ...  0.0  0.0     0.0      Country  \n",
       "\n",
       "[334 rows x 4821 columns]"
      ]
     },
     "execution_count": 79,
     "metadata": {},
     "output_type": "execute_result"
    }
   ],
   "source": [
    "# add predictions to a copy of testing_set\n",
    "testing_set_with_predictions = testing_set.copy()\n",
    "testing_set_with_predictions[\"predictions\"] = predictions\n",
    "testing_set_with_predictions"
   ]
  },
  {
   "cell_type": "code",
   "execution_count": 80,
   "id": "69342224",
   "metadata": {},
   "outputs": [
    {
     "data": {
      "text/plain": [
       "0.6706586826347305"
      ]
     },
     "execution_count": 80,
     "metadata": {},
     "output_type": "execute_result"
    }
   ],
   "source": [
    "# Compare the Genre column and the predictions column\n",
    "accuracy = np.sum(testing_set_with_predictions[\"Genre\"] == testing_set_with_predictions[\"predictions\"]) / len(testing_set_with_predictions)\n",
    "accuracy"
   ]
  },
  {
   "cell_type": "markdown",
   "id": "e60939e6",
   "metadata": {},
   "source": [
    "find that 67% of the classification are correct.\n",
    "\n",
    "Try to use k =31 then what is the accurcy of the classifications?"
   ]
  },
  {
   "cell_type": "code",
   "execution_count": 47,
   "id": "245e13e3",
   "metadata": {},
   "outputs": [],
   "source": [
    "K = 31"
   ]
  },
  {
   "cell_type": "code",
   "execution_count": 57,
   "id": "3c283acc",
   "metadata": {},
   "outputs": [
    {
     "data": {
      "text/plain": [
       "0.6586826347305389"
      ]
     },
     "execution_count": 57,
     "metadata": {},
     "output_type": "execute_result"
    }
   ],
   "source": [
    "# Compare the Genre column and the predictions column\n",
    "accuracy_31 = np.sum(testing_set_with_predictions[\"Genre\"] == testing_set_with_predictions[\"predictions\"]) / len(testing_set_with_predictions)\n",
    "accuracy_31"
   ]
  },
  {
   "cell_type": "markdown",
   "id": "8fe84d31",
   "metadata": {},
   "source": [
    "About 66% of classification are correct"
   ]
  },
  {
   "cell_type": "code",
   "execution_count": 65,
   "id": "14e71183",
   "metadata": {},
   "outputs": [],
   "source": [
    "K = 7"
   ]
  },
  {
   "cell_type": "code",
   "execution_count": 73,
   "id": "52f760e9",
   "metadata": {},
   "outputs": [
    {
     "data": {
      "text/plain": [
       "0.6916167664670658"
      ]
     },
     "execution_count": 73,
     "metadata": {},
     "output_type": "execute_result"
    }
   ],
   "source": [
    "# Compare the Genre column and the predictions column\n",
    "accuracy_7 = np.sum(testing_set_with_predictions[\"Genre\"] == testing_set_with_predictions[\"predictions\"]) / len(testing_set_with_predictions)\n",
    "accuracy_7"
   ]
  },
  {
   "cell_type": "code",
   "execution_count": 81,
   "id": "2149612e",
   "metadata": {},
   "outputs": [
    {
     "data": {
      "image/png": "[encoded data removed]",
      "text/plain": [
       "<Figure size 1000x800 with 1 Axes>"
      ]
     },
     "metadata": {},
     "output_type": "display_data"
    }
   ],
   "source": [
    "plt.plot([7,15,31], [0.6916167664670658,0.6706586826347305,0.6586826347305389], \"o:\")\n",
    "\n",
    "plt.xticks([7,15,31])\n",
    "plt.ylabel(\"Accuracy\")\n",
    "plt.xlabel(\"Value of k\")\n",
    "\n",
    "plt.title('Classfication from [\"like\",\"love\",\"the\",\"street\",\"style\",\"truck\",\"lone\"]');"
   ]
  },
  {
   "cell_type": "markdown",
   "id": "562b6166",
   "metadata": {},
   "source": [
    "K=7 gives the most accurate classifications. If we experimented with the collection of words, then we would be able to make even more accurate classfications"
   ]
  }
 ],
 "metadata": {
  "kernelspec": {
   "display_name": "Python 3 (ipykernel)",
   "language": "python",
   "name": "python3"
  },
  "language_info": {
   "codemirror_mode": {
    "name": "ipython",
    "version": 3
   },
   "file_extension": ".py",
   "mimetype": "text/x-python",
   "name": "python",
   "nbconvert_exporter": "python",
   "pygments_lexer": "ipython3",
   "version": "3.9.13"
  }
 },
 "nbformat": 4,
 "nbformat_minor": 5
}
